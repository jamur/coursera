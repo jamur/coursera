{
 "cells": [
  {
   "cell_type": "code",
   "execution_count": 7,
   "metadata": {},
   "outputs": [
    {
     "name": "stdout",
     "output_type": "stream",
     "text": [
      "<bound method Response.json of <Response [200]>>\n",
      "201\n"
     ]
    }
   ],
   "source": [
    "import os\n",
    "import requests\n",
    "\n",
    "feedback_path = \"data/feedback/\"\n",
    "\n",
    "arqs = os.listdir(feedback_path)\n",
    "\n",
    "feedback_list = []\n",
    "\n",
    "for arq in arqs:\n",
    "\t#print(arq)\n",
    "\t...\n",
    "\n",
    "for arq in arqs:\n",
    "\tdict_feedback = {}\n",
    "\twith open(feedback_path + arq, 'r') as f:\n",
    "\t\tdict_feedback['title'] = f.readline().rstrip('\\n')\n",
    "\t\tdict_feedback['name'] = f.readline().rstrip('\\n')\n",
    "\t\tdict_feedback['date'] = f.readline().rstrip('\\n')\n",
    "\t\tdict_feedback['feedback'] = f.readline().rstrip('\\n')\n",
    "\n",
    "\t#print(dict_feedback)\n",
    "\tfeedback_list.append(dict_feedback)\n",
    "\n",
    "# The API endpoint to communicate with\n",
    "url_post = \"http://34.67.34.0/feedback/\"\n",
    "\n",
    "get_response = requests.get(url_post)\n",
    "\n",
    "print(get_response.json)\n",
    "\n",
    "post_response = requests.post(url_post, json=feedback_list[0])\n",
    "\n",
    "print(post_response.status_code)\n",
    "# Print the response\n",
    "#post_response_json = post_response.json()\n",
    "#print(post_response_json)\n",
    "\t"
   ]
  }
 ],
 "metadata": {
  "kernelspec": {
   "display_name": "Python 3",
   "language": "python",
   "name": "python3"
  },
  "language_info": {
   "codemirror_mode": {
    "name": "ipython",
    "version": 3
   },
   "file_extension": ".py",
   "mimetype": "text/x-python",
   "name": "python",
   "nbconvert_exporter": "python",
   "pygments_lexer": "ipython3",
   "version": "3.10.6"
  },
  "orig_nbformat": 4
 },
 "nbformat": 4,
 "nbformat_minor": 2
}
