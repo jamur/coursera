{
 "cells": [
  {
   "cell_type": "code",
   "execution_count": 7,
   "metadata": {},
   "outputs": [
    {
     "name": "stdout",
     "output_type": "stream",
     "text": [
      "\n",
      "\n"
     ]
    }
   ],
   "source": [
    "from email.message import EmailMessage\n",
    "message = EmailMessage()\n",
    "print(message)"
   ]
  },
  {
   "cell_type": "code",
   "execution_count": 8,
   "metadata": {},
   "outputs": [],
   "source": [
    "sender = \"rjamur@gmail.com\"\n",
    "recipient = \"jamur@ufpr.br\""
   ]
  },
  {
   "cell_type": "code",
   "execution_count": 9,
   "metadata": {},
   "outputs": [
    {
     "name": "stdout",
     "output_type": "stream",
     "text": [
      "From: rjamur@gmail.com\n",
      "To: jamur@ufpr.br\n",
      "\n",
      "\n"
     ]
    }
   ],
   "source": [
    "message['From'] = sender\n",
    "message['To'] = recipient\n",
    "print(message)\n"
   ]
  },
  {
   "cell_type": "code",
   "execution_count": 10,
   "metadata": {},
   "outputs": [
    {
     "name": "stdout",
     "output_type": "stream",
     "text": [
      "From: rjamur@gmail.com\n",
      "To: jamur@ufpr.br\n",
      "Subject: Geetings from rjamur@gmail.com to jamur@ufpr.br\n",
      "\n",
      "\n"
     ]
    }
   ],
   "source": [
    "message['Subject'] = 'Geetings from {} to {}'.format(sender, recipient)\n",
    "print(message)"
   ]
  },
  {
   "cell_type": "code",
   "execution_count": 11,
   "metadata": {},
   "outputs": [],
   "source": [
    "body =\"\"\"Hey there!\n",
    "\n",
    "I'm learning to send emails using Python!\"\"\"\n",
    "message.set_content(body)"
   ]
  },
  {
   "cell_type": "code",
   "execution_count": 12,
   "metadata": {},
   "outputs": [
    {
     "name": "stdout",
     "output_type": "stream",
     "text": [
      "From: rjamur@gmail.com\n",
      "To: jamur@ufpr.br\n",
      "Subject: Geetings from rjamur@gmail.com to jamur@ufpr.br\n",
      "Content-Type: text/plain; charset=\"utf-8\"\n",
      "Content-Transfer-Encoding: 7bit\n",
      "MIME-Version: 1.0\n",
      "\n",
      "Hey there!\n",
      "\n",
      "I'm learning to send emails using Python!\n",
      "\n"
     ]
    }
   ],
   "source": [
    "print(message)"
   ]
  },
  {
   "cell_type": "code",
   "execution_count": 13,
   "metadata": {},
   "outputs": [
    {
     "name": "stdout",
     "output_type": "stream",
     "text": [
      "me.jpg\n",
      "image/jpeg\n"
     ]
    }
   ],
   "source": [
    "import os.path\n",
    "attachment_path = \"/tmp/me.jpg\"\n",
    "attachment_filename = os.path.basename(attachment_path)\n",
    "print(attachment_filename)\n",
    "import mimetypes\n",
    "mime_type, _ = mimetypes.guess_type(attachment_path)\n",
    "print(mime_type)"
   ]
  },
  {
   "cell_type": "code",
   "execution_count": 14,
   "metadata": {},
   "outputs": [
    {
     "name": "stdout",
     "output_type": "stream",
     "text": [
      "image\n",
      "jpeg\n"
     ]
    }
   ],
   "source": [
    "mime_type, mime_subtype = mime_type.split('/', 1)\n",
    "print(mime_type)\n",
    "print(mime_subtype)"
   ]
  },
  {
   "cell_type": "code",
   "execution_count": 15,
   "metadata": {},
   "outputs": [
    {
     "name": "stdout",
     "output_type": "stream",
     "text": [
      "From: rjamur@gmail.com\n",
      "To: jamur@ufpr.br\n",
      "Subject: Geetings from rjamur@gmail.com to jamur@ufpr.br\n",
      "MIME-Version: 1.0\n",
      "Content-Type: multipart/mixed; boundary=\"===============0064495521725656629==\"\n",
      "\n",
      "--===============0064495521725656629==\n",
      "Content-Type: text/plain; charset=\"utf-8\"\n",
      "Content-Transfer-Encoding: 7bit\n",
      "\n",
      "Hey there!\n",
      "\n",
      "I'm learning to send emails using Python!\n",
      "\n",
      "--===============0064495521725656629==\n",
      "Content-Type: image/jpeg\n",
      "Content-Transfer-Encoding: base64\n",
      "Content-Disposition: attachment; filename=\"me.jpg\"\n",
      "MIME-Version: 1.0\n",
      "\n",
      "/9j/4AAQSkZJRgABAQAAAQABAAD/4QtQRXhpZgAASUkqAAgAAAAFABABAgAgAAAASgAAADEBAgAO\n",
      "AAAAagAAADIBAgAUAAAAeAAAABICAwACAAAAAgABAGmHBAABAAAAjAAAAEYBAABJbnRlZ3JhdGVk\n",
      "IENhbWVyYTogSW50ZWdyYXRlZCBDAENoZWVzZSAzLjMyLjEAMjAyMDowMToxOSAxODoxMDoyMQAI\n",
      "AACQBwAEAAAAMDIzMAOQAgAUAAAA8gAAAACgBwAEAAAAMDEwMAGgAwABAAAAAQAAAAKgBAABAAAA\n",
      "IAMAAAOgBAABAAAAwAEAAAWgBAABAAAAKAEAACCkAgAhAAAABgEAAAAAAAAyMDIwOjAxOjE5IDE4\n",
      "OjEwOjIxADRiNWJlYjBhMjU1NWFmZTUwMDAwMDAwMDAwMDAwMDAwAAACAAEAAgAEAAAAUjk4AAIA\n",
      "BwAEAAAAMDEwMAAAAAAGAAMBAwABAAAABgAAABoBBQABAAAAlAEAABsBBQABAAAAnAEAACgBAwAB\n",
      "AAAAAgAAAAECBAABAAAApAEAAAICBAABAAAAowkAAAAAAABIAAAAAQAAAEgAAAABAAAA/9j/4AAQ\n",
      "SkZJRgABAQAAAQABAAD/2wBDAAUDBAQEAwUEBAQFBQUGBwwIBwcHBw8LCwkMEQ8SEhEPERETFhwX\n",
      "ExQaFRERGCEYGh0dHx8fExciJCIeJBweHx7/2wBDAQUFBQcGBw4ICA4eFBEUHh4eHh4eHh4eHh4e\n",
      "Hh4eHh4eHh4eHh4eHh4eHh4eHh4eHh4eHh4eHh4eHh4eHh4eHh7/wAARCABgAKADASIAAhEBAxEB\n",
      "/8QAHAAAAQUBAQEAAAAAAAAAAAAAAwIEBQYHAQAI/8QANRAAAgEDAgQEBAQFBQAAAAAAAQIDAAQR\n",
      "BSEGEjFBBxNRcRRhgZEVIjKhQrHB0eEIM1Ni8f/EABoBAAIDAQEAAAAAAAAAAAAAAAMEAQIFAAb/\n",
      "xAAhEQACAgICAwEBAQAAAAAAAAAAAQIDBBEhMQUSQSITMv/aAAwDAQACEQMRAD8Aawjan1vEz9FN\n",
      "ctoVXtmpGFQBtQUWbERW22WP2p3HEi9BXFolXRUWoHairQloq1JwRaUzBEZmIAAJJNJFRfFk/kaF\n",
      "eyFiqpCzMR6YrtlkjKfF/wAQmuWbRNHk5Y1OJpVO7H0FZ9o+m/F4ebJGfWmelRi+1GWaUkqDkD3N\n",
      "XCwQRgRxr0G1Avt9eEN41Kl+pHotDsjHg2659ar+vaIbObz4Uwnyq826sVGaP8It1bPDJHzBhjc0\n",
      "rC2UXvZoTx4yjrRzwU47bSL1NJ1GYtYTNhSx/wBpvX29a+iYnDKGBBB6EV8Z6rp1zo2oOhVjHnKP\n",
      "6it58C+MzrFgdFvZOa6tkzE7Hd4/T3H8qfTUltGU4uL9Wa0hFEU0BDRAalA2gymiDcUFTRFNSUYo\n",
      "9a50NdO9cIqNHGWQDptTyLpTKE06RqHEljhaItBV6WrelXRAYUVaArURWqxwbNUjxpvGt+C70IxU\n",
      "tGA2O+TgD+f2q6g1nXjhHJLw/IFBK8nMwHflzj9zXFjEOFH3nJztipr4++wxtlRUU9X70w0SykgM\n",
      "49QuNqevpLswkYlz1GWwB9KVm4+3I9VGagkT2gaq12UjcKJOdQce9G1PXLyznFva+UsvcMM9agdC\n",
      "tmi1BVVup6ipjWtBe5uBOMk7ZwcE0LcVIc/br47O38z6lpdwLyELMsZYEDbpVX8Odan0XieyvY3I\n",
      "EcylvmpOGH2zVztdLuE06ZDz8rRsqh25iNvWqLwNZC/4rtLMEAPKoJPvvR8drnQhlxknHZ9m20iv\n",
      "GrIeZWAII7jtR1NRWg5XTo4/+ItGPZSQP2xUmrUdC7DqaKppuhoyn51INhQduor3fFeX0roFSVMn\n",
      "iNHU02jO1HU0FFmOENEVt6bqaWrb1Ozhwrb9aKrU3U0RTU7JHCtVZ8TbUz8L3Uy/qiTOR2Gf7E1Y\n",
      "VNIvYYruymtZgDFNG0bj5EYNSSj5z052FwyMQV5RjHyNSdxciO2PTJ2FRlwHsdT+FlRQqcyxSgEC\n",
      "VQxAYe/WhaoklwqGNhhCcrnrS04frk0a7NraF6dqscOoKgjyQMs3N3q3W2tx6gZI0iVHhC4PmAhx\n",
      "7djVI06zUSlzboc7EM1TEWjziF5raEBiMjEm1RKMQ0JWJbL6tzG2nNIAu0ZP2FZZwN5r8RyJbryX\n",
      "DAvE2P0srcwx74x9auvmyWXDbGY5K2zFvc9qgvC7T7vUOL7QWfI0phd3PQIDkZ+maJjrsWzJe3qf\n",
      "TXD0sc2i2k0YKrJErYJyckZOfrmpNTTHSrVLKwgtI/0xIEBp+gpgSbCpRUoa7UaOpKNhUG9ExSUo\n",
      "lSVMej6UZM0JOlFFLouwimlg0IGlA1JwdaKtAQ70Za5EhVNRPFcrfh62wuhbLO3JJJndUxlsfPt9\n",
      "alVpnqWlWOpFPjYTKq/wliFPuB1qyOPn3xG1y0vNdWPTwTa28YhifpvkZI9gAAKizqLQhYmB5wcH\n",
      "PpVw8TuC7ywuvxOKKN7UyBVAwAm/cfU1U9SsVuI+YbOvQiom48JhqvfTaFTzwzomZmQNueXvVm0r\n",
      "UbK00vy47k+YE/i7mqH8NdgKhQnlOxXepjSNB1K55edDFGSCzN1PsKpKEdcsLC2e+I8kjxJrVxd2\n",
      "CiP8sbgR4Hc4zV6/086JcHUfxo/kiRHiIxu5IFMIuD4tUsYNOgJWRDzKMZLtjHXtWzcF6IuhaNbW\n",
      "CKMxxhWbO5PUmr0tOPALIjJT/RY4xThBQoxtRkxijAGwiCjRikKKKgrigRR8qJXEFLxXEMxxDtRA\n",
      "aGnSlil0EYsUrNIHrXc1JyCo3Sjo2aaKd6Re6laWEXPczKvoo3Y+wqN6LJb6JIGmGt67p2jxBruc\n",
      "BycLGu7n6f1qoa3xXdz20iWSm3XrzDdyO+/aqDqks0lw0ksryOTnnZsk0fHgrdvfQO5yqaTXZY+O\n",
      "uIbvXOSJV8iyQ8yR5yXPq39u1VK3jV3cHfl3o6zmaLy84kAwvoaHYQXSzuzREKRjegZFMq22+h3G\n",
      "ujNJLsltNsomIkCD3qdtYlLKi7gVH6OrQxnzTt7UWwnfzZWGcZwKQb2aUEkWCIJGm5wRTnTuK9T0\n",
      "y7FpDc+dGF8xY5hzZXO4B67f1qMt7V5z+aQ79s0TVbaC0toGCgzF8gnqABvTeFJq1R+MVz4KVLl9\n",
      "RpGh8babeKFnSS3l/iGOYf8AlWOy1bTrmQRw3cZc9Acg/vWJBygiuYzhkGfcVZLR/iEVs7EAitDN\n",
      "i6GpLpmXhuN6ab5Rr0fSjJWe6JfX1o68k7vH3Rzkf4q+6dcJdWyTJtzDceh9KWqujZ0EtpdfLHiU\n",
      "rvXBShR0LNmNJ0pfShRmiZpRB2dzvXiaST86Z6zefBabNcD9SjC+52FW6RC5Yy1zXFsy1vbcrz43\n",
      "J6J/mqm/n3MplldmZzux6mjWsZmGWPMWOWJ71Jw2q86n0pKc3JmjVWkgVhZbDI+9Uq7UG4ZR0DsB\n",
      "9GIrS5OWK3ZvltWbqvNcSY3/ADMfuTWj4v8A1JCflNKEWCS3UjfvTmCaW3/7r8xSigG2AcV4AYxk\n",
      "ZrYcFJaa2YkbpRe0yVh1OzeDy2Qo33oltcWMZGJQFz6VEBARhgOncV5IkDYKjFJS8bS3tbRow8vc\n",
      "lp6ZYxrVvEcQqXf1bYU2uLya8n82U5HQL0wPQVFwqE/SoHtTyIYP86Ypxa6nuK5E8nOtvWpPgmLM\n",
      "5QL26jP71N8Pyhea0c7punzWq9avgddxUhC7IyXMY/NHv7juKPkU/wB6nAFi5H8bFL4XayYg4O9W\n",
      "vhO6w7WzHZt196pNlOksSTo2UYdc1N6ZcGKVJUO6nNeUg3XZz8PTzSshx9NCU0sdKb2sqywpIpyG\n",
      "AIpwDWsjIZ//2QD/4QMJaHR0cDovL25zLmFkb2JlLmNvbS94YXAvMS4wLwA8P3hwYWNrZXQgYmVn\n",
      "aW49Iu+7vyIgaWQ9Ilc1TTBNcENlaGlIenJlU3pOVGN6a2M5ZCI/PiA8eDp4bXBtZXRhIHhtbG5z\n",
      "Ong9ImFkb2JlOm5zOm1ldGEvIiB4OnhtcHRrPSJYTVAgQ29yZSA1LjUuMCI+IDxyZGY6UkRGIHht\n",
      "bG5zOnJkZj0iaHR0cDovL3d3dy53My5vcmcvMTk5OS8wMi8yMi1yZGYtc3ludGF4LW5zIyI+IDxy\n",
      "ZGY6RGVzY3JpcHRpb24gcmRmOmFib3V0PSIiIHhtbG5zOmV4aWY9Imh0dHA6Ly9ucy5hZG9iZS5j\n",
      "b20vZXhpZi8xLjAvIiB4bWxuczp0aWZmPSJodHRwOi8vbnMuYWRvYmUuY29tL3RpZmYvMS4wLyIg\n",
      "eG1sbnM6ZGM9Imh0dHA6Ly9wdXJsLm9yZy9kYy9lbGVtZW50cy8xLjEvIiB4bWxuczp4bXA9Imh0\n",
      "dHA6Ly9ucy5hZG9iZS5jb20veGFwLzEuMC8iIGV4aWY6RGF0ZVRpbWVPcmlnaW5hbD0iMjAyMC0w\n",
      "MS0xOVQxODoxMDoyMS45OTMzMDAtMDM6MDAiIHRpZmY6TW9kZWw9IkludGVncmF0ZWQgQ2FtZXJh\n",
      "OiBJbnRlZ3JhdGVkIEMiIHhtcDpDcmVhdG9yVG9vbD0iQ2hlZXNlIDMuMzIuMSI+IDxkYzpkYXRl\n",
      "PiA8cmRmOlNlcT4gPHJkZjpsaT4yMDIwLTAxLTE5VDE4OjEwOjIxLjk5MzMwMC0wMzowMDwvcmRm\n",
      "OmxpPiA8L3JkZjpTZXE+IDwvZGM6ZGF0ZT4gPGRjOnN1YmplY3Q+IDxyZGY6QmFnPiA8cmRmOmxp\n",
      "PkNoZWVzZTwvcmRmOmxpPiA8L3JkZjpCYWc+IDwvZGM6c3ViamVjdD4gPC9yZGY6RGVzY3JpcHRp\n",
      "b24+IDwvcmRmOlJERj4gPC94OnhtcG1ldGE+ICAgPD94cGFja2V0IGVuZD0idyI/Pv/bAIQACwgI\n",
      "CgoQDQoKCg0NDQcIEAcICAgIFg0OCBApGCsqKCQnJy0nQDctMD0wJyc4QDA9Q05IU1IrNkNJQjpI\n",
      "QDs8OQEMDQ0QEA8VDw8VOSUdJTk5OTk5OTk5OTk5OTk5OTk5OTk5OTk5OTk5OTk5OTk5OTk5OTk5\n",
      "OTk5OTk5OTk5OTk5/8AAEQgBwAMgAwERAAIRAQMRAf/EABsAAQEBAQEBAQEAAAAAAAAAAAABAgME\n",
      "BQYH/8QAPhAAAgECAwQHCAEDAwQCAwAAAAECAxEhMUEEElFhBXGBobHB8BMiMkKR0eHxUgYUIzNi\n",
      "ckNTgpIkY0Si0v/EABkBAQEBAQEBAAAAAAAAAAAAAAABAgMEBf/EACIRAQEBAAIDAAMBAQEBAAAA\n",
      "AAABEQIhAxIxQVGBYXETUv/aAAwDAQACEQMRAD8A5LExmNAFRUVE7VoqKvDMAQUuxF9YhVAFRpIB\n",
      "YirbuKKvDUmoDRbPgX+DSpvXtRL/AMGlFLQg0ULDsUooADRQADsB2KQVFAgWAoUAIooAgWKKQAAA\n",
      "DEgPl7btae9CDwjhUmnkB+Z2/pGN3CCvhZXeCYHxp1HJ+8yjDZBb/oKziyoKLC46Rhf9GdaxVQfA\n",
      "mr6qqHLMaeq/27+uQ9l9Wf7d/TiNPVzdJous+rnKFhKzYxiaZbgwO1N2DT1UasotNOz0aIY/RdF9\n",
      "MShKO8/h92Ub/wCogj9hQrxrRU4v4llfImLrsgqpkaUsSiCapYUCRSAUigCCgCoEqxQgUCAUUmAB\n",
      "RiAFKFigQCAVQAQCiGQKKMohQJgABo0B+M+w0xQsjSCLYm4qrxApUPTGjXmPoogYhGvVwFyioCpP\n",
      "TtA2oc+sCqK/IGkQWwFsUEUEQUoEFQACoAgKBQAAKXAtioAAL5hQIAUigE9XABXz+kdrVJOEZWlK\n",
      "N5Sv/pII/H9I9JylenRdowdt6Lu2B8iUr5643KM3ARVwRuNO/bgZ1ucXSFH9k1cd4UF6WZjW8eiF\n",
      "GJnVx0VNcMxrWNKlH0h7GDpR4dg0xl00lbd62NMcalLgu4upjyVKfBdZqM488oG9YvFz3TWueOsM\n",
      "uoLHSL7iDvTnbt04hH6XofpaVJqMpXi7K0na4H66jWjUSlF3TJVldkRtSpQMgPqgUKBBFRSKpUoR\n",
      "YBcUrJYAAKARSKFFAERQAAaAAAAIAgWKBBLFAliwEUKiomD8av0RpV4oaNDpFXgBS6ik+ipCDSRo\n",
      "X0iRAoqT9IDah64AbjBLTIgq9WKKiClFQgCggq+YCwQAAUoogCgBQKFABAAFRQBFUAEAKFS4RzlN\n",
      "JZ5A187aek5R92nTvn785bqA/JdKbbKblB1pVG5KVSUfdhcqvkyYGGwIgO8Y425YmbW5HojAxa6Y\n",
      "7Qh3mWsd1D8kXG1G33IraXIDaj3EXDd7gYjjbtyAxKN9CjzTp595qJY8dSnr2G4xXBxt9isWETTC\n",
      "p27QjpBgeqjVcXyQH6roTpT4ac5X0xwugj9RTmpK61V0TGpWyfF+qWJSxRQCIYoQAozBSmBA8gBU\n",
      "CoEVQCApO1CxFKgQUYABAUoAQgAAoACAVCYAAQVMqPxvpGcbtaX14EsTResSmtGkVGdFXqxRRh00\n",
      "l18Bg3GD18So2oRXPmBpL0iCpd4FIBYKUUAAAAUoeRAApQAoAgIKpRSAACAFuUEFWxA8gBQAEHOt\n",
      "PcjKT0V2B87adpjBb0npeMb+7FAflOk+lpVXKEHhLCdSWLnjkUfIlO4HK4BK/wBSEjrCPdmTW5Ha\n",
      "nHUxXSR6oQxy6zLUdoLuIrrFGVdEgokBpIK1gFEuOmRExGl9QY5yhn5mkx5KlG/1yNRnHjqQaNRj\n",
      "HFqxpmxF4G3JqD07wrrCVvAg9mz1pU2pJ23GmmCv2PQvSkaijTk3i2lvO+6xUffTTI3VAoiUGigC\n",
      "ooFCYEWKECgAKgRYoAdIFFIqgAgBUyhYCkAohAABQAEAAIEVABUfjvsY7ajSHaqrfUqNICpadw1G\n",
      "owb8y/R0UYoI2hRUiSioopMFKAFLAKKQAADzKKAIFwLYYFii27yAUUABSAFCoEUApQILcAELhUA+\n",
      "f0pWUYbt/wDUmoYZsD8n0htdSW9GUt1QnZQxbbKPjTaA4u+gQS7guNxjw01JrUjtCOnPFmNdMeqn\n",
      "T7jFakd4LEjUjqkvqRrG0vwB0WXWRVfiBfsFaQGb+IRpcgqSh6QHN0b5DUx5a+z5+JqVmx86rG1z\n",
      "pHKxwt3m3KwTaKjrGVyNO0JWzA+hse1SpNSjLVKSWbVwj9z0Ztsa8ItT3t5e7LiSxZX0E79gXWio\n",
      "qIoEUqKiKIJtW5QIKUCAVC4RQoAuUUgAUABQgAFIohQogAgFCxkCgBCgRQD8eYaVK/1LGa3GD+w6\n",
      "G1BfQsRuw/irb9D+DSSJiNJdw0X9CCr9lFJ8AsAtFGioASgUCigAIQaAWAoAAgKgoAKigCKWAoQC\n",
      "hRQBBGByq1FFcbLID4m1Te/vTd3BNpN4RZR+T2qTlKcpP3pTcpRfG4R4ZSAxcDpCDfaZtbk16IUn\n",
      "+jOukjvTo+rGdax6YJIysdERptfu5Fav3hWk1+wNp9wFuv2FVW/JFHFFBAad+ITBICTgn9NSfEx8\n",
      "zbKFsUszpKxY+W1bDg7M6xxsZ8jTm0sCK7Qlf1mFdYT3cQj6/RXSL2aabfuTa38fgfEqP3OybQq0\n",
      "FLW2NiVY9C8CK0hpijVxQgVFAoBEA0ikC5QIgFwCKAJurilQCqACL6QAABQIUBQIBOg8zQeRMEAB\n",
      "QD8moowrSXDuKNWDLSXf2AVIaNL0yqqJf+o0h/QXpgX7Fgq9MAUUlAQUoACAUABQRBQKAKLYgAUC\n",
      "+YBBQAELACihQgoADnOXeBzazfLBEHwtp+Kcr33pYy5FafkdswnNcKsvEqY8jxDKQV2KSdvoUaas\n",
      "cq7ydO8Y2Mtu0VYg0gNojTV/2QVFVpeRFbS7wrW6nmAtYA0+4HaJPUDpFdxR0igK49wo41acZpp6\n",
      "oRmx8PbNmdJ3thLJnWVy5R4mjbjY1H9BY0sOwDrCVwjtTnu9XgUfoOhOlpUJRpzl/jn7sLv4WSpH\n",
      "7OFRTSlF4SV00Rv66RA0EoVNAqhFApCAX4FZUASAUAAFAtyhciHkBQAFsIBRSABCgQABQJSYeZFQ\n",
      "10gOh+VS/JyxppeRqJWh0gn3DBpDFaXiTIqorKrwIaGoL9gAFKF+4CgVEAoAEAApQICCqAQAYKUU\n",
      "gAVBAAXVAAFBgQUCPwA5xxdyYrFZ52zaaj1hHwNvlGF3or70r5KxVfja09+UpY+9Ny97rKjiwO2z\n",
      "xxJWuMe+Ct9jk7O0SEbX6I1FILvcO0DS/ROlVJjpW1f6DodIvkOlW74ZDpW1Ja9gFuv2DWN4GrFv\n",
      "hloB0jLkUPeCFuRBw2mgpxaazWD4FlxLHwq1Fwbw6jtx5OPKORpzQqNJsg6xno+24V6KNXdweT7g\n",
      "j9h/T3S3tP8A41V3tFeym3i8ASv0cWRWyooACgxUFwuGV8woQyBQ8gi3KCIQCqMZAKAAoACgAFyi\n",
      "kEGKAAgAEC/4KoREKPyyMK0iZBV6uXIKvWAwVeGPWLo15PEQVBFKKBR2AwAKOgQ6FLiqBAAAIAUK\n",
      "AAKACKiikBBQqKRQCgQABQCAjyfMDMcuwi45VfTCPyn9RVvZ71P/AL8vdV8omoPy8n35BHMD17Mt\n",
      "TFdeD2ow6OkfVjI2Glv3ERYhXReRGm4rjxwCtr1YLGrBW7IIO1gqxKdMsHTcYkG42KNxXEiK0grE\n",
      "ksuKCY8G1bIpXettDUrF4vkVdncclqdJXK8XBxZtixMgz8ajLRlHaD59pB7ti2mdGSq086bTWuoH\n",
      "9A6N2yG00oVYu6nFNrWLJiyvcmFaQAChmhRUCAUCYpUCADFAAW4AAEW4UCKAAoAoXAEAAAAAPMoE\n",
      "Ao/KoxarS9YEVUWo0ICX4KnTS6+sHS+WTAoFt+gAFAFACk7VSwAFxECikUKAQIAFKKRUA0EAAVQA\n",
      "BAAgBQoUQi45r3fuQcq00lvN4LNtgfhem9rW01JTj8FNexpu3x45mkr40mEZQHs2bgYrrweyPiYd\n",
      "a2iI2vACrH7mVdErBW44fYK0pdwadEla/eRVQVb6ccmwjeUcdShR964UnmB0prj9QjWH3ZR0hDUK\n",
      "04+BEYcSDhNemEeOvQ3suwsrFjwVKO7mjpKzY8dZWv16G458nDff7NObpCrYGvVSnrF9a4BX6T+m\n",
      "+kvY1P7eb/x7X8Db+GYTX7FYYrJ5ojX10jK4NaCAFKgZqqIqlQAIIoAAAEFFAClQIRQBe1B2KRBA\n",
      "AAAKAAiFFuZxUND8ukcl1SovkgdtFwUaKl+S6L5DUUaqkToRo6CRVL8FsEAKAIoioBVIBQCdKDpA\n",
      "KACqUX1gECKIIoUIBQuEUKgRQoUcWseWZlY+P0tUcrbLSvvVW/aSWKgio/HdJSj7SUI5UZeyunmV\n",
      "Hz2AA9my+rGK68XtivTObotsesK3Ag0pJFxNX2qsPU1n28Vmy+prca0Xr9SWLK7RqriRrXW/fkRp\n",
      "qDCxqtLBX45FF2fjyIE8+8aNqeHkXQ9rFZ6FTVjtkVhdFxPZn+8jfF66MYnsr2qJMPZHUUvJmcJW\n",
      "JLDq5EV5q1NMsrL5O1Rtc68XPk8DOjjWl+wjtSlbtDT3UKji1ODW9Tkpwb0dyI/ovRW2x2yjCtH5\n",
      "44xecXwFWWPYsHyYHS4ItyKFFESl+4qKZaC4mgRQoVFuECKpFCopQIAFuMAqKATAAAHYQAAACAAP\n",
      "y6MKq9MDSLkRUBr0idKGhTIqKL5FQCqIgUUKEFKgAJq4pUCKFAAUUgAAKAApQIioKAAAMAuFiooN\n",
      "CDjXmoRc/wCCuragfBqxnRXtpJylVvK98Yg+Pxm0yvKWt6jbfF3KleUCxYHt2QxydeL2xObo0sc+\n",
      "ACU1FW4lg87qd2prGWJT4alRyc5FSpGrLjkOja9FKvJZkaleynWujFdJXqpSZlqNVp5LncK7bO8O\n",
      "wixl1Lv/AIu1imsuWvcxIza8tWs8UtNEbkYteKdVq/XkaYc1XkngEemntEnzIa9lKtH8Mzjcr0xm\n",
      "pamLG5WZxv8AQg+Tt8c+86cXLk+Szs40TCOsGFeqjL1wIr9X/Sm0yhOpQ+WtFV4q+TKj9esusy20\n",
      "ipVAqAoAIoAoXIKAAFRQgFUmBfvKKQAKhQEAILxAtwAAABL94FAFAD8sjnNaaXgXtFGCjBV4F6Gr\n",
      "/cAvXIQVAUC+rAETQLOxQgVVAXKBAACpFEFCoBQBQIKAAoAqAVSAUCAFAilEIPn7e99w2dfPJ1Zp\n",
      "apAfO6Yq7sGr23I3lhhfQSLr8NX+JtaybX1Ky4AVeYHt2XG/IxydOD2rDtMOpe1+4Dk5PFtmmXGU\n",
      "m+0o1CG8S0dPY8siey4xKjbQaYJIo3CWPgRXtoztr1mK3HSb3mFe3Z8uwjbz7m5Jri7oalZqPjwN\n",
      "Rh5JtcerE0y5NxYZFTT+W/UNFVO2UWNMai2nrhmCvZRkmr8DJK7b3pka18/pFe63wxLwZ5PiSzO8\n",
      "cKBG4gd6bt2EV9zoTaFTr0JN2XtFCcnwA/oSYxqVtEVQBUqoAVKoQAoC5FUCgQIoAIoaCoqAEACl\n",
      "RSAAAeYEKBAQFAAflkY+NNLy0LqLf9DBUPh9aXlwJgpfgpEEasFSJFDQoQAoAlVRANIEAopFAAAo\n",
      "ERQoEUKeYFKBEEFCBYooUKgQAAXHzYv2levN5UIR2aGGD1Ypj4/T7tB6b7dR2yaQlH46sreJWXIA\n",
      "l44AezY87cTPJ04Pd18cDm6pLwCOU1fqNBCmnpzJpHoiooyqupCOq6hia5TqRej6zWGvPKS0+hRI\n",
      "Tx8QPXTlYy1HeErtGW4+ns8kl2GXSLNR+LhkwV83aqtr2NxxrwOXHU2ysJR/CRB6Kbjxa7MCD0Rf\n",
      "JSWTcczKtexjO8oaLJLEvwSl7r7cRqPSlhveRnWnzuk/h/5SSN8WOT4ks3yZ2eeomBuAHeninysR\n",
      "Y92yqUsI5/LbFhX9E6I2r+6oUq2sobk1wksGVI96I0qIqlRQAFCAFCAVQgUCKpUEQUAEAKVQARFA\n",
      "oAohBUBH4gEUAKB+WXq5z+tNerlRfPUaLf1cn1VRcrLRcDyCqBfMoEFGgUEBUAJqBdACkUKKBAih\n",
      "QCpgCooAiqAAFAgFFCFiKAADA+PsOH9xJtv2u2ymrvJWJVfD/qCtjKnfGEIUo+JUfm66xtbJWKjh\n",
      "YC27wPXsqx6lqZrfF7bHN1SWOXUBhQt92UYqbRGOXUXE3HCVapLHJPLQ1kZ2sOUk7N95Wf67Uouo\n",
      "5KLaUVvLeeBKs7/LDk07S6rkxprd1RGnemyLHpoO7MOke2FXdMtOrnddmKA+dXpN4367s3KxXhm0\n",
      "nZY44m3NlylF8N7IsiWrDaZxfxLDIuM+z00tvf8A1I4fzgrNGbxWcnupzjb2lN7yebWpjMblbi4y\n",
      "/wDLGLsRp3gsOwivm9Kr3UuNTyN8HPm+I1i/M7PPUQFT7gPVC263q2kiNR9Hotf5KfKav1Ar9j0H\n",
      "J0KtfZG8JJbbRja2GoT4+6iN6pU7W5T4pABVDIFW4OwHYDVBoDQqKRVRUCAUUgAUABQHkNAAACAA\n",
      "oAflkc2lLEaWowVXGClRfIC+YAopBSwVGVLmgIKmUAAC4QIqiAUCYBYKEAqhAKoAABQAQCqACiCA\n",
      "GZZPqA+VRW7Tb/nPefXvE1X5vb3LaNolBJYV3LLF2Vio+NtsYxnKKwWFnxwA81uH1KiW8QPZsefY\n",
      "Z5OnF7Xqc3VzcorXsA5zlKWCw6yjkqDzeJdZkb9hhbR6E1cP7YeyerooOCaWG9zzGrjm6az4DRF1\n",
      "doI3DxDT1UcMeww1Hqjj2ciNO273oivPNL4ZaO5YzXjq0Fe61ehuViucqG92LRF1MI7DfG+ZfZj0\n",
      "ej+2k47m7lqo4j2WcFpbNWoYwxUvjg2sjO61j0U5JZ3jjimsDKx64cU08CNPn9KL3U+FRdmBrixy\n",
      "fEmnd9Z3eeol4BEQHrgsIri7hY+x0Ls7nVhhhGak8c8SK/VbS/7evsu0rCMqj2Kq7aNfckH3IspF\n",
      "I0qKgBbgwuEW4WgQBgEUCg0BVAAUqdFwdLcgIAUVBQiKUAFyKDECgAA/LI54q+rCGKvM1sTFRPqt\n",
      "L0iwVeAD1gBUBfXImIeZoUATQJui37yqACihAAFAKECKFFABFCiKihQgoAKFQIihQAUZnl2Eqx8q\n",
      "6jQjJ3xxwfMi6/OKO7VjVlJ7lWpJVaiXwJlZfH6T/wBWUcP8VqbwzQRmnSVlzV8Ca68Z05ThYsrN\n",
      "nb1bHHXvMcmuL1NX+5h0YUVfr1YF9lfs4DQ9nbj1oumJ7y44cgqO7zb+oQ3X9BozuOX5QMRws7cN\n",
      "QuNpEHakiNR7qUV+jLcjuocDK45VKd14lTHmlS04m9YscnRa+F2ZdZIyqwfG2qReh3Veb+KPMitx\n",
      "k5fL9TK43GF81mEdYxt+ArzdJU705P8AjZ3tlia4pyfn5rHq1O0ebkwn33RWUj4ge2ir25WsRX6j\n",
      "oHZ2kqj/AOrUW5fhcmtY+70xRctnqKLtKMVWg+DTLEr6OyVfa06dT/uUozf0KO5F1QAFABFB9AkA\n",
      "oBSoERUFAKACKABFBQooACoAAIAABYooH5WJzaU1qKZ9lVeA0X7FRUBUVFRMARVKAAULiC/coerk\n",
      "xFKBFUUBLAKAFABAC+sAAVQAFuSAiigAAAL0XCBRmeT6iUj5e0wts8b4ezmr8/eIr51PZo1dmnxT\n",
      "mml1Afjp705Yu7crNt3bNfhHthHJLRWwObvI4VYO6XF2XMsZ5R6tkjZPmyVeLuzDabqfYRG4xDTe\n",
      "6RUcFprmFRQT0Kkh7OK0z5BcYngEc7GhH+iI7UYeIrUe+jYxW49FsOtEVlcH2lSI6afYvqMK5To8\n",
      "EGcYdJ9vUD1T2MshpjvT2dpBcd/ZYAxN0I4bZT3qc1xg7Gp9Z5Py82jvPjzcnG5WGooD6fR9P2s4\n",
      "U8t6STllZErUftejoLeUbf6KTlfiRr4+j0or7PXX/wBMvARLWuh7/wBvRvju01FW1Roe8gAUAACK\n",
      "DQCgAigCkUigRSgQUABQAFABBAUAAKAAIoH5T1mc9bxq/LsKigVABDFuaRbkVQKAXpDQv3EFAeQA\n",
      "VVLEBpikUNIEqKFCmAAIoUCKFAKFCQUqAC4ACkUKhcCSyfURfjwVF7SjUi/lqSjn/uC6+Ts03To7\n",
      "fH5tnnUrpPFtNAfnYbFu0qFaVlKpKV/9yFq8ZqQz6mYdlrZJ26mVK3QwX4JWY7GW4Rtlq8UQdF+0\n",
      "RVt38A0rj64BS3ADE8MSo4VPHQqMr9FBLHwTA9NNGVj2UvMjpMemCvjwYGpQ1sTBh4AR49VjTIrP\n",
      "yIqqPDRAdksMQNWAy4hHGrHBrisSxnk/H142bX8ZNd524vLzcbWNMOsFf7BX0KNqE6NR/DON5O3w\n",
      "mVftujJ+/JyznP2M+bsFe7pKru0JxUd51Y+xhDizUR69ipOlSp03nTpqMuuwqx6DLXxSs2qgkAKA\n",
      "AAigARQUAoQAAUIIKpQApECigUAAAAAAFA/KoxinmBogvpFD7AF4GkXyJqr54AUC+ZKIaFAEFKKT\n",
      "ACgiBRSYBQJopQ+5ACqVACgAqoJC4UCKABi3CgQCpcI8c0oupTw/zf5ovmRqPidK05UIVdop5bTs\n",
      "8tl2hcXbBiFfI2ipvUtjitdlcpJcRW+NeSGduGZh0jrUacWuCEhejZndCsu/pmWlj+mRWo/sK1gi\n",
      "K0gqN2A5zf6NI8z8Qyii2UdEu7VkV3p3IseuBlt7acXa6NK08U+SA8zvez7GZEfDkVBK3gB3pq5R\n",
      "2UO8C2AzYiOdVYdRYzX5LbYrebXztytwxO3F5+ceSefYacq3Tz6tQR9/bdi/wScf/wAV/wBxZLOD\n",
      "M/lvH0eg9tUqalJ40pKNVt8Hh3Fo+1Q/+ZUjPH2WzzThwqMI+0l4EakbELBFTIAUH0AoACgAyoC4\n",
      "NUAgAFCAFsUAq2CAFAAUABbeIBAAAH5Qxi6qKNEAClC5LBfWAmfsVF/oCAUXyICHQvrEgXKKECao\n",
      "WCgAijVBAKgQVBQEUoEAoowAoQW5RQgFAgAJivPtUMqv/Yu5O13u6hXzulYb2ybSrZUZta4pXESv\n",
      "y1N4Uo1ppRUJKnVngrcC1Y4xxe+l8cb24GK7Ry37PELXTZ5Wb4XDD2czDUW3AjTUfTCtIiteWYGW\n",
      "9e5lHnqyz+5pHFK76gjvG1iKl0vriXB1pyX5JhK9EKieCeuZMaj10KjyuGnoc0ggoxl2hp4q3uSa\n",
      "+nIiVYzv9c0CPTB94HXew9Ymhq5BOfEI4bVU3ac5fxg3dvARmvym2SV7/wC1Hbi8/KvNNpxjbNYN\n",
      "9ppyaprvCx+mnUUIUpzxhOm9irxlipq2Blt83ZN6nNRk5RhOaU0na6uaYf0Do5R9lBRjbcSRFe9B\n",
      "daB2oOwIoUB9AYoQAtgaIqKAIqlQAoBAUIAUABUQUC3KIAAqAAAPynkYVpBT74DE1V+wKvTAAW/g\n",
      "SKYl6Q8uQ/ooz/RUEALcuKIASi3GaAQuFUoAAKAKAFIAVQgFBuooAoXCqQCig6AdIBH44GcV8/aa\n",
      "bdPaNn1qbLN0rLNWsWI/IQXtoQjJWdpJRvk7FHnhB07xb/05uOPWZrrxYrxad1qRukLxs/rYMPbF\n",
      "3RlqVpesSNRQrSIF/wBkVmcs+SuWDyybk7fVmoyj93Facwkcq1WTylbDQ1hXnftIu6m8f9xXPL+3\n",
      "qobROOE1e/zLQiy39PXCfDUlbldqm01YR/xpb38paCHtXgltO2vH2svd4RS8jXSbXu2DbqzajN72\n",
      "OdrMzW+NfQrL2mNtDm2819124FR6qE76/ULr0RaA6IAB4ukG/ZSjH50o4cLljFfldpeL6ztHm5OK\n",
      "x7NCsNRYH2dgjOvTnGUpNbPSdWlCLxuiLr6O0Ud+jse07uNai9nqO3zerhX3v6d2p1abpy+LZ5br\n",
      "xzVgR9yIVsCoKBlQsRFFCL5BACkXoB0oAChFAFFuACCAoF8wAFAoAB6YBAAAH5RHJpV4lgvkVMUB\n",
      "5jpFCg+C+WqKFxgvXrigHpkF8yigPSQBeQQGh6yEwVBQCkAuAAKioKEVQARQoVAKoQChNRbhQqAV\n",
      "SCeZR59phhvrOm7tt/LqQx+LrQWz16tPSNXfguCZT48u1NuvNtW9vFTUUlbIjfHWqcr3UvkWF+Bi\n",
      "uri771uOiKy9VPFdnAzSNxI2twKncijlbDS2ZRxm7+ZUYwsEc5yKWvLUfhoaYtYUv0ViV6qUk8H2\n",
      "My3HojJR1ywI1HaNeCzxGLrz1Nov7v8AJ3ViyM2u+wyjF83q2SxrjX1I1Yy17L5nPHWVzqQUsVg0\n",
      "QqUpJO3DArL103fsDTrvYPkATur8ijxbbKyjzvdmoxX5jaFi+TOsebk5uOHKWKKyQV9MkB9zoGUo\n",
      "znaN9/Z92L4O4H2aFCT2Srs7xeyTe1U29fWJFdOhJ+zqq2W0wvZPB8QP1kcgsrSIuhUsUJioL0BM\n",
      "CopDQLqlQApEVBQooDzCHkBUBQAFAAUCoBcAAAAAPyiMLVAthopUPMnSqAKHrEC+rDUX7E1ReAFA\n",
      "XApQJ9AYugQGCoAAGmKUAAFHwAKAuFUqAAgpQIAUKaAUgFRGrq3FWaepFfjf6l2Z0K0Kq+HaKe5H\n",
      "k0zUSvk1pNunP+FJQba5mbGpXVQzfFZIxXaOON3ytZlSvTSyt3kpHSHrAzWoN4+AiqiDnVqWvyRZ\n",
      "EryOs3hxzsbxnUlPDAGuLb+hUrDuysVIIUjvDPyRGnSfaFZcmBhp36mVHopyy52dyVqPXRq/Lh7u\n",
      "MZPAxiyuv901hLTVaExvWlUbtJSVng8CYkr3bOnxz4BuO1XBYZyaA1D4esD53STtuLS7wLGOT4e1\n",
      "Qt2s6xy5RydO8Y2+eW6sTUcsI0mt7/Z8X1FWR9ToR/5V/wDZ7vPIlPy/VJKnyVSjKjLhZr8EauPH\n",
      "sEd2eyv+FaUWstWkWM9P1yXgUihdVACClRUQEAKioEUgv0CBSKgoBQARQAFAAVeLAoACoCgQAgKA\n",
      "A/JLxObTSEFKir0gBJARRfSIHmagoBIz9Uv3FRQKOxQIXBRgDA9WAAENF8wKUCAFETBSgQilkAIp\n",
      "QJVLiAVFJVhcfT4pcAgFQIr4/wDUmyf3GzOSXvbLNV49WpYlfkaLTX/BrDUla4vVZNYHOu8eaUUm\n",
      "+ZYlbp8P4sVHRPHr1IpK6t9CK1f0iYsePanbXPRGozXlTNsNY/QitbneijO43lrmQWNHxxGrj3bP\n",
      "Qgnja/Ezrc4tVdlvl9UTT1YlsuGmGRdTHB0ZReOnA1KzeKwpyfZqXUx1imm7cM7GVR4PrA3Tk8+D\n",
      "s0SrH2Nld0nlhqYrpHSrPFR7Wgqpt9SRUeLbbN7rZqMWvibVJPBZRdmzpHPlUm972dOPyNzutXcr\n",
      "k5O92tW8Qr6nQ8d6tSje29UULoI/TdLVlTlBRycHvq2LxEVvovZvepuSxT9u1b4VYI/RrwCxpBVX\n",
      "gUnQRFAAoVFIq+QAIqKCIipBQooFCAFAAUABQAFAoACAUAB+SX6Of8aUS/4NeZUPIaKUPuBfsT4g\n",
      "vAsVQCEFJQuTaYpQACCsqoEESigLfgC2AFFM6oaQIqgCopQIBQJ0KOlBKmBQIqlQIRQqFRmpCM4y\n",
      "hJXU4OMk9URen8/2rZ5bHWqUKl7Rk9ybzqR4lSOFGvKKfzWl8LehPVucrD+4VTSz0WpPVffXWmzL\n",
      "UdkyNLJ4dSIMqQV5tpjJu/I1Erz7vZc0w1BrjriFdHOKyJip7TvGK0mRXWErdga11jVdrNkxdVzT\n",
      "y0wzGGpn9mXE+ukZxS3bKy14EwSc6VrJ4rQuMPHKov0VHXZ1d24tWfMlSPvbPFKKMV24uUnebeid\n",
      "rMiu0Hgyo+T0nU952+SKd0b4uXJ8e+d+u51cXo2elGUZ1G8YpKEb5sg4Wx6mWFfU6Je5VpS/hU3s\n",
      "VyCPu47TVW9703L3IJYJDF1+i2HZ/Zpyl8U7b0lwER7UhVkUi3FKioiLYKAUAgKVFAACCgUoBAKo\n",
      "FQQAoFAAVAEBQAEAoAJX5JHP42pdRr1YoEsXQIoAfUUqgFQBMgF6FJmABSgA8wABemCKRRF+ovrA\n",
      "mB9QoiopIpYopECqqIAAooAqAUIilAAFS4RGrkV+Z/qrZ4yhCvgpUKm42ljNMQfm/ZTUN62Esb3x\n",
      "KOVP3WrgeynNPq0MV0jpquRlpp4q61RGmY+BUakt5WGjzzo/kaY5exV/I1qYjo7uPHjoNMbhGGqD\n",
      "WOyoQePmTWsVbP8A7nyxGmNR2fr7WNXHWOyx54apjVx0jsy+vF5E1n1aVGEdLvRWGrjP9mpNykrc\n",
      "iamPPV2NLLV6CcmfV32XZ7NN6WaFpI+rSdljosyNvPH3r875lR2jLdXUCvh7fWxk7r3rLBWVzfGO\n",
      "POvBSj7R245LidHOdvoxjFUN23vU5OTkuswr58I3faaK+50Vss6jvBa7rdrtBl+u2Do6NBXti83L\n",
      "GVimPpxjbsIsbCqipgDFIVSgBQgBQKQEAKKACKAAoFAAX0gCAoFAAUAAAAAPySOdrSoClQAo3TMW\n",
      "4DyHYenc0KSxICKoBeAF8wH3Ji6erFQ8gBBS6AgvmNkAAAuBRigRQBFUoBFCgQChUUAEPIKpFAJY\n",
      "gxUlGKcpfLniUx+R6Tq1Okdop7LTvuQndxT01Y+C9JdESoJKjNuM5qFOlNXlnxGrj4e0U9zcb/6j\n",
      "l7qjbdSZUrNJyvfvZK1K9UPHUw26J2WPVcjSZPDXkBVKwWUWN+4gy13lGUgG4iq6QXPsIsbjzyDT\n",
      "alH+X1YTY606kNJL6kNj0R3X+zK66xhFBVSIjFWkvyUsYpw3QmPUlhbirFg5whurt4BGa092LdtM\n",
      "EWJXwdu97H+TudeLhyeOnKUXvL5WarD2zqQ9m92TvUkvdvoRpxoSx7cipX7v+m6EFRVTNzd7pWsR\n",
      "H3kgrYVQKEUFAKBQHq5UAKBQAFAAUAAQFAoRQAACgUBcCoABAL6YQA/JLzOcbPWAFRRQFydioC3C\n",
      "BqAhiL5BQzBczQE0UfQKA0AAsF6u0ilwikAvQDARdFIoiwUAMFJgXLECVVLAFRSKF0wAFQAk5KKb\n",
      "byV2yLI+H0r0i6UXJZy92jB4dpSuP9PbL7OEtrmvf2pWhKee5+SUjdep7ao8bKlBuLT+a2ZG353p\n",
      "xxp1lSjH/S2eN2+LNxzryU77ntFlvuKs9RSLCo827GLHSV1jVTw7Lmcb12vhddpFZl9sgN73BEVE\n",
      "/XECuIGG7FEc/AqOU67tb64mpGbXKM2/pxKzrrRlbG/YRqPoUKj+jMVqPbCTaMOkdo4BpmcueLAs\n",
      "FfzQR0bxRUcKlSzceeDKzbjy1qrb3eMbXNxztfI2qeK4Rja3DE3HOuMVvZZ6RRWWqMd6Sg/mmo9W\n",
      "IHoUY06k0lhCbjFPNYgft/6ZnfZlfC1SUIt64kH3o5BrGkBUCKgKECigAkVBVCAFQRQoAAoQuAQV\n",
      "QKEUABQAFXgAAoAAACAH5Ew20gLb82CH2AAX1gAKL6YAdi8yaAF8i6YEAaKAKJ6QRbhUsVGiVQCr\n",
      "9EqwCCH0AKVQChFJqnmWAAAoACkAqBQCvnbftih/jit7NzUXgiD86qVTba9p3lG6dWSV4xjwKPvu\n",
      "E5rcisHhaKtGKIrlVhTpx9ndP3lVrz4oYPw/SG0uvVq1P+5Oy42Ky9loUtldOT/yS2q8YtZYIEeK\n",
      "OOb+pVjrBap/gw6R3g9PqZajXlkFZ37fbmAUm89MkgOl8OrUmLqPEsGJYfQI8zi8zUZRQfDNFTHe\n",
      "jSd8VlmuKI1I+pQp2x4pW5HO1uR6I4eRlpu7+hFcKlTdeeZqM2u1OosOayuElWrVSTa+jBXzaleV\n",
      "+p3R0kc7XHaNosr3xSeCNyOevnTnvc75srGkG4veWHBoD1SprcVWPF+05YkV1mnUaq/zS32tXYD9\n",
      "d/S7k6Ps7O0NolKcm8kVH6WIbUIqAoFQAgoRSgAQVUEUCgAAFAAEEUCgUABUBQCAAUAEAAUKj8ij\n",
      "m2oRbjF1QARSgBUAIi+kSxT9hRFAqKRQqKAIHkUPuAX6JViiVAoq8yANXFBBFhQmCjQLiKKsCCgA\n",
      "AVSxAAVGJq6atmrWYH57bJSlN06a3nKSilBWVwPo9H7DHZ6aja86vv1XzJVjvUk4qyju8MUZjT85\n",
      "05tvs6cqafvV04QxtJm4zen5mjTjJ79R2hBq9sWyslWu58owk3CIFoPe93lfK5Ks7dHePkRvG4N3\n",
      "77krUrrKolrkTGtcHUV+suMeywqfjEYsrvCfEy07LLr55EVhoqsqMX9QOijFfTBhHaluq3XiiLHv\n",
      "pyjFf8jLcro3HzIujWGBB4dolZ4ZXy4HSOdcqVfdweie7YuMatStdWv8XHiJDXGa11vY0zXirSu7\n",
      "cHmbYrg1352DLUMrMD1ULpSWji79RFfXo7BOWz05wWE05zi83K4R+r6D2J7LQUZNOVaXtpKOmBR9\n",
      "WIVpBY1YKJAXyCKACKAAtgKAAoAJFBQAAAoFAoACrwAAVAAKAAACoAfkUctbUDS9XCCKAwUdr0oQ\n",
      "9MUBAApQJRRAAAW5LA8kWKAF4FRfIAQCi+ZAAFFsRQIvmFBJ/qKW/wDVgZFNAAGgBQAGZYrs0zKj\n",
      "48KG5Vk7X3ZuV8msSVqR66u30qSxTWGXs27EhkfF27pyTvGnDX45u6Lia/NbdUdWe9Oe9Jr35PQ0\n",
      "l7eWUnJ7sclgkEYeHWB02Z+/Hg3ZslXj9eqqmsbdxmOtmxzu/oVj4xKby5iQvIRSNppfYjUbhLXi\n",
      "8UQ13U8LZW4Eac3O98chi60ppdmpcNPa3T7iFrtRqWz/AIgld1XwstcGyYuuyrKyvLS0iYa0tqUf\n",
      "dvmru7GL7PNtFbnrgWRm154TjdcndtmsrDUrv3vqIrUU5vS0VvSbySsVHznK7utXcsYpa/a8So1C\n",
      "OLA9+zU95bkPjqyUIq3Mg/Y7Js0YU40Iu6pJU7vGwH2KEMM8sORR2VwraIvShAo0gggAVQh5gWwF\n",
      "QAC2AoAAEEBQKAAoADQAAAAoD0ggAChUfkkcdbxTWmKACKALBSfFBqCLKi/cdVQgfcsBD6ikxQAW\n",
      "AhaRf0TVLlQQFRMXQsNUlSAUKigoBSKBFCgAdiiaAXoKnS3AjB/Hg2naa97UIKVvnldJDo/j5rnW\n",
      "vKpUc96bxVFOOINeXaargn7SMaSk379eunKb5JFLXxdqnKT9xScdako7u8VHnnsso0ntE04xnJU6\n",
      "Ka/1GByjBqG9lvZzYHmln1PPiBum7OL/AIyTSJSfX08LdaOdd58eerC2XdqWVmx55Rt9TcrnZjKZ\n",
      "WWt5hdWne5KselSwffYzjo5zlwKmsOZWfZ0p4vwJWpWnO2WmYi6qqtLq5jDW6dRywvkrsYajqXXU\n",
      "MTRz3l2DDUp4+RWXeO9K0P5P3bamW3tVH2dKo2sfZtNa5GN7azp8K1uw6/hxs7dIO3aDp2pwUn1g\n",
      "6fe6D2Del7eSvCCag2s5XKj9TQ3eGUvoIV76St2oI6eQaUhYqCKFipAxSoAUB5AAKBQAFCCAAUAB\n",
      "bAUABQKASAoBAPIAEWwEBqlR+ROOOmqaiKKqiB6sPqBcVRiHpDAJQEVREovDMqCI10txmnQEAAAK\n",
      "AW5BfuCHlqWFEBRBR8QJqgnJcUv0+AxAYKOwAAilAIFw1iTkl8O9y3rMg+btEqlHecVOKeKVlJX+\n",
      "pV3Hyqz2/aLRjv4z+GGzu+fFhLdddl/puUn7XaZKO9jKKSlKT+g0cemdnp061DZo2hTm1Kt1XKPF\n",
      "09RqRWns4V0qW7J3S3QtfDk8N3NLK7DLla762B7JbNGm4Uo41KkVKcm/dgiL+XoSsuNteJzrvPhJ\n",
      "KSyIY8lSlY3KxY4YI25oBqL/AGEd4Ssm3r3kblSSwvztfmDXFvxzKy3CRKso5/liF5CvlxeSxKjt\n",
      "CSXu6395hqUfup9eCIms30KO9Onjhra3Iy3H09l2d3jN4bkr3WqOdrpI9W0xvCpzpSzyyMxv8Pzr\n",
      "pS4ZnePNy+s7jTs1awZe3ZoRb969kt6W6sWB+36N2eNOjTgl8KUmr63Kj30aaV3bOV2gPXEjUaDW\n",
      "KisqBUBUBQgAAoFCAFAAUABQAACoCgUABQAACgW4AAVAAB+RRx/jeKP4KaxBAUC+kAAF9g9InsBd\n",
      "FClwgT4A+ghgF0CKAUIDTFAXKKiL0oOhAioZClyoAVAAKZ/KlzQEFKgNMLlBkE3URRIGqUfF6Qpq\n",
      "VapOUN6FKhCFSO7d7rv9io/PbbTqSSxbpTlaG9JtRWhR8+EIxlaovdkrNvNIDnt9CNGpKNN3jZTp\n",
      "y4qwGdnquU/8mO+rT4yRKvF7Uc67RXgRWXG5Ux5KlGzutNDUrneLhKOZtjGX4ZhGk/EDupKSUHxu\n",
      "3zsRdcGvoioqjZX/AGFTlxA6QwfhYg6Kyz67cQust731KjvSouXwrWxm1qR9XZNl+ZrNYJnO8nbj\n",
      "xfQjDdVuzAxrpibRFunU1vSlZJY5Fn1L8fJpwutz3Pdlde1bgzt+Hnt7Zlskqk0oxvfNReBph9To\n",
      "3omdSrZpRjs0FWanim+AH6+go7uXwr3k/lA604+IHZeAUTu+oK0GWkFAWLYIAUABoABQAFAAAKEA\n",
      "KAAoFsAAoBBFAqAAAAAAajNfkUcHVUUWxdRURQCl3A/Q1AoAApcmIpQ+4AAAApNVCopFEAHYqAqF\n",
      "0XzE1KeQF+wiliopKohECikUHwCeximgADAAAALYo8u00Zt+0pbrko7s4Tvu1EEfJrbLG7/xVae/\n",
      "L34W3oSA+N0hsSiknFxcam6p7maA+Vtez1YWk3vwVlCaeBRz2WG897+Bnk1xj3WObrioKjT9MDE7\n",
      "P7MqOMqaZdTHnnTaNSud4s7rX3RpnFT782QXB+YCy+gWFuAK3FSXblyA0o7zyu7WwGmPVR2KpKzc\n",
      "bb2V1ZpGbyjc4vo7PsyprHSVznbrrI9dN6RXaYajuohp0gsV16mpWa9n9nB+9U2eM7Y3aTsdZXCx\n",
      "8+tQp7zVGnKM5WajCe9GOPWac6+v0bsktnjFSlvSqSdWtK2LZUfS9lvY2aayawCtKNaP8XxeMWBu\n",
      "O+/isv8AiDXRKwVpL8gaAoQAAUCgUAgKBQAAIoCwFAWAoACgAKBQAFsEpYGAUsACKVH5A5bnToqG\n",
      "Z2L1D6fF8hkLUNYkVAUkUKh4mcAsC/qwFCp6zL7GA3UPWAFCgQAerAAKTVxfICiAiovrEyqrxKBU\n",
      "CikAig0xQAFAAABToAIIoAKzJXwZMHm2nZIVouMldTjZpq5T+PyvSOyxjTqwlGMa2y1IzwVltEG7\n",
      "XKub+Hz4QjHJWTd1ic7XSRr9ZGWj7gVlGWrgc3F6aMqM3eq7QDpxkDGHQLrOMexby0zNeyerUaEs\n",
      "t0aertR2JvH6ciey+r0w6Pi833mbyWcXqpbNThp1NIxa3I7tPJLuI1jUKX8n2BrHohhkRWliB0ia\n",
      "iV6NmoPaG4y2qcbO7oRe62jpK8/OV9ShsVGn8MEkmnFWydjbm9aginTogjQUAqAqCNAUABQAFuAA\n",
      "oFCKFAARQAFAAUCgAKVBAXyICApVEACAAgoH5BHNpV5lFAekSqvpFQKgTVijQfrAf0F4IZ/oekwo\n",
      "LoDECoBqAKEFIYIaHrAuijRQQQ+FVAUJ9Cij4AgpFCh5EQKKFCCiACAULqYoAoECwGSUj8t0/tdO\n",
      "tNUKdn/bTbnVWV+Bl0j5NiNowIiCr8gZb5dZVipX7AUcBExj2a9IpjcaXpE0xuNAauO0KCv2ZGdM\n",
      "d4UYr65E1cd4U46eJFxtJBcTqKNxCtrxCtpAbQRX/JOzi7qSdmi/Gc17tn6VnBJVYupZfHCykblc\n",
      "7xeql01s03uvfg1nv08mdpxtcb099KtTqrepzUle14smWEsdAWqgigqlFAoFApAAoRQoBUACKBQA\n",
      "ACoCgAKAAqAoACoAEAoUAikiUKPyBydVIL9jWshdAlFQAfFP1kaQRNFH0DPxTzNagAuAAoDyAXM2\n",
      "KAP0WABUBSxBCrFMi+rM0gOxRBfTJVgFLkzECgVNVEX6IaBdRSgAJ0Fx0KNUuNV8PpbpdQT2fZ5e\n",
      "+041K0cqRlqR+b89WzLoWIMtFERBpBV3f2FaUUBpQviBd3jmwNRgkQdFBEVtJLPXBWA6pEG4rxCt\n",
      "ZfkKesgrcVyA0o/oDpFFGkgNJfkIlixLHnr05X9pT+OCxjpJHThyxy58Nd9k2yaW/RnuSkrTvG6P\n",
      "XM5fXksyvo0+nJRsqlG9rJzpzSbM3x/pfZ7dm6W2Wu9yNTdm/kqxcGzF4WNa9yZlWkBUBUFVMIXK\n",
      "KBQKgBEUChQAEUABQKgAFAAUCoABQBUAoQCpgEUD8h6xOLqqLiWqhgFkQ/bKh5CqIiqAGAWJVAAC\n",
      "B6xHYoVBph6wCKFQagLVUGYEuCjVW5dAIO5RpE7QX6Ao1Qv1AKtwBkBARRQBpJQLqmRC0c61enRT\n",
      "nUmoxjrJkWbXwekOmJ1r06F4QylPKVRE1uR8hrwM61IxbvI0z6QRGijLA3BYYacSK6JW7MrALPPj\n",
      "wCukPMg1up9hFbsBuMe8hjoorgFa3QuNqNtOsA0v2Uqq7IR0QVpIDaKNL9kFRRn0gh6xKjx7RF7P\n",
      "L20F7s2lUitDv4+Tz+Tg7PdqJSi9E7o9cuvJZjndfDJZZStqQemhte1UGnGtJxTXuTe9GwyVdsfZ\n",
      "2XpiNSyqQ3W8G4u6zOd4fpqc304VISxjJO/8Xc52Z9bjaZFaAICoABQKBQARQKAApQAIgoFQAClQ\n",
      "QFCqAJiFwoUUARPgXE1+Pv8Ao5OmtFBESHkagffQaYoFRlYDsBlOg0h6uBV6ZAKBQM1QgGvqBnF0\n",
      "8yxD7FAixUTC1QgVVKgRVQFXmOguEXzKBFBBQBekEBSgQS5R5Nr6So7PeMnea/6cMyzjqW4+VLpj\n",
      "aW3KLiotWjT3LpGvRPZ4KtapXe9Um5S0vlE5Xp249sOPdoc9dMZkiDm49wGWvviUYZRiQG6f7JVd\n",
      "rEVLdwGovvA7RRFVLTsA6xj64EV09WKNLxCl/TIqZ+sgOlNdxR0SAq4EG0BV5FEv3AS4xC+PUBit\n",
      "aUXF/NFovG4zymvm7BtPs5OjN3vdRfA9nj5PH5OL3zhh3qx3cK5xk44PFXxIRq7Xwv4XeLA9Wzba\n",
      "72b3XHhKzZLx1Zyx9Gn0hWjipby4TVzheFj0ceUr1Uulv50//KDMfG/XXrp7fQl/1EnwndMmpeLs\n",
      "q1N/Ov8A2RdT1a34/wAl/wCyGp6tJ8/oymY0mEUAEUABQKA8gKBQBRQARQAO1IoVCwAJ2BVIdBU7\n",
      "fkDi6KvTLuByLOz4tu4YABAPSQQApQ8gKZA0HloQPVi4A6AKXE0oECKGkCUVErQSRNUKo2oFGkEP\n",
      "VxYoTBSgAQgFRSdL2CIFHnr7dQoNQqz3XNXSs3gJKPm7Z04leOzq7tjUmrJM6zgzr4c686kpSqSc\n",
      "pTd3KWFzckc72qlbB/8AiXBuElfrOXLi6ePk6s81mPVuuUsOwDk/2MGXb64FHJgYl4FRqi7kqvVb\n",
      "Aw0wyixA7w9WI07JYkG144hVsgCf7KF/EgsX6sFdoLXubA6IKqGIjYDeX4AjYEcv2VGbgSUsAPjb\n",
      "ZCUZe0jhjdNcTvwuPPzj6mx7Qq1NXzjg1zPVxuvJyjo0vqbxzxjcecfwyKShvZYSjlbQo6Uq8sYv\n",
      "4oZ8yZq/8eunPe7Dl5ODt4+f7doo8luPV9bSXdmT2UsNG4VZx+GUl1SZfYzXto9JSjhUV1lvRXvG\n",
      "pWLwfQpbVSq/DJc4vBo3rn6473KyqCCAtwKAApRUBbEBAAilFAACAAKKACAH4/yOToqH1GkFPIv0\n",
      "CxC4oIgIlq4pqIesRkAmL2ABiHpBVt+yAaQXgSgJoBS/7KCRBQHlgD4XAqJRUIL6uUUoBFMqCAUB\n",
      "9Bso8e0dJ0KL3bubWcaeKRZwtTceHaOncLUadpPOdV5G542fZ8evtNSvL2lSV3JWvlY31GbXF3/J\n",
      "pGHivMgsJ3weaLErrHPqx5MErtvYdXA4c+Dvw5OU5nHHaVn0w1rEn3CRHK5RiWQRaLsSq9kHdeTM\n",
      "1Yk8ArMWMR3h+yNvRCxB1jiGhruCOb9IDNyo1FkV6KbCtXIqOXfwAy52w4asqakZERd78AY3uJQu\n",
      "VFUWwhPZVUTTXxG5WceShRez1HC+E43V0enx8nl8vHHub466npeXtYRvhwzHxXSdNLHhnbULHmrr\n",
      "daqR0fvdQV1hUtin8eOBPpHvpS3kmePy8cezx8nRdZwdlbIM3KBdQu15PgPZMd6W3VqeCm+Sn7yL\n",
      "7J6vbS6Vl89NP/dCVma9mfR66W3UamG9ut6TVrmvZm8HqTTKxYpUaQACgUAAsEUClNOwihUUKEQK\n",
      "gQLFH5A4uov0VGhAXiUCQoVDy5CB5F6FJoACdCl+iekKsVkKGuqyBRExdAgSqeQlML/qwAAWCgUC\n",
      "r1YCgVAENAmhcaYX7hpI5VdqpU/imk/4rFhqcXxukekHUtGKlGCT3ry+Nm+OM8pjwN37FkuB3jzV\n",
      "xqceHgUlc8bZBpH4FIy3p9CKw01is0B1hLeXBruER2hO+HDCxeqaTh3nDlwduHNyfgcnbXKUr+ZF\n",
      "Y+4EeQVmm8fsB7YsxVg9QrHkB1pyCvTS8DLUeiHPiFal+wPPU5FRy3u9hHSGIHphgRqK2CsMIyl3\n",
      "gasA3L48ANbl8csQY3Gnw1yKY604Y5dpUdlD1YD5234VKVs7vHkd/E8/ldG8D2x4WvespJ54vApr\n",
      "rFqSuFcXZNxksJYWeRGXGmnFum/ld4u2aDT27NUtrmcfJxdfHcelPvPHymPbLsauZVUBcCCWKYu6\n",
      "TUaSGjcfVxo9VDaKlP4ZYaxk7o3OTN4vp0NqjVwyl/F6nSWVxvGx6LmmVQFAAUCgCooPp5hAKBVI\n",
      "gVAHYCPx5x+OjRQ8sBIVfSKQyJsAtqC9K5BfMon3wKihRekZ6ULEqodkPWIihEDQE1Z0ISFCoEqg\n",
      "wEECgBQL9gKSi3IoPgjdvF3JqyPFX6RpU8I3nJfxfuoa1OLwVdvrVMHLdT0hgTW5HFeLu3xJasc6\n",
      "8N5W4allTlNeajPOLzX1PTxrycuKzw8bW0OuuccZ554PEY0xqT4MPPwuUg7LrdiVcR3+JPFZ4YNE\n",
      "HSlNS5NaGkrvCayln1lxn4zKO9drTNHHlwduPPHmkrM42Y7y6zLwIrm5DAp5kqvVC/7MtNW7+JFV\n",
      "RA6Qp9zCx6qS9WM1qO6en1Cq7d2gHnqMJXmvjbgVHel6uRXdvDsKM3b1JVbWXaBpIDah4ZcBBtQs\n",
      "BVC+ZUdIxSA6xiBqxUfJ2t71blTglho7np8UeXzVqbsl48T2PLXajLC2rWCJGYqk49Tdncq2tVIK\n",
      "SvhxuBwqRw3tYYt62JVWGlsVLEl7Jce+E7o8fk4vZ4+SvM4OrcXoFjVu4g0l3ZhVIKgN2CNwVgOs\n",
      "cOzLHIsuI+hsu0b3uzztg/5HbjycucexG3JUUEEVeAFuFUIAAAFAEAqAOwK/IHJuqgBU1QHmA5ci\n",
      "VTyKgBfWBAuFL95UF4lAC+rgQABSCF0xTOqhrUqhUIA2CoIoD1cKqZFLgcK+2UqOcry0hHFk1ZHy\n",
      "to22pWze7H+EXgZ1uTHn3uZNaRtfQi6bxRd7vA8lX3Jby1dmdeHJw58W295XWh6p28tmOM492K6i\n",
      "k6c7N/cjes20vksGET9sBb8MKlnnk08LAbhVT92WD4llTHSErYPjhJZMM41UhGf/APSJeOtceXq8\n",
      "06M/s75nDlxx6ePPWVs74/Q563jpCjumNax3jAi40oEVuMP3YK1FEV1UX55kG05INK5W7Sjz1JX/\n",
      "AEIjgv0aR6qS7zKujRVIrxBrtFMg3GPfmMHRL1YsG7CjSQRq3jkija/JFSpJRTb0V2zUmsV8aleU\n",
      "p1f5S+p7fFMeHy8nSfdkdnBqm3FrlgRNemcd5X5YWNLqUp/K9FgwMzji7doNcILdbjx96JlXsoTT\n",
      "w7Dn5OLt4+WPQkeG9PXHSJGnSOJBpeBASA0l3AbUSDUUFbQHSDs0/wCOKZuVmzX1KNTfinrk1zO8\n",
      "rz8pjqis1UVBAUKoAgWKgQLFRQsgIBWfn5CWEv8Ar8fc5fHVougLqL6sRVIIWAXqopBCilCxNAoE\n",
      "oerEU8zSKiUCCFFAg1cAgUCKpAv+S6YX7gSPLX6QpU/dXvSvZxhkiNSPBW2+tUylup6QeLRnW5Hl\n",
      "cr38TOtHLiBPPIYFmBd37kJGtwLjFWhvJ8srG+NZ5R5qcsLPNYM9fCvHziPLH5XbM6uccHhdcDLU\n",
      "Sy+oUUH+lmT4I4t8rYhS/PIBKKa7M7lxCEpU88VfPPAGa7RnqsU8XErOT8uu8nllqnmhScs+EEpX\n",
      "wPPz8f6ejh5NdFBPTLU89mfXql1VG2mZloUfyEa3e94mVaVMK6Jd+lgqPADEn6RUcJ8nmEpCKv8A\n",
      "cD0wy7Aqyv8AQK1BL8lHZIIqwKjal3kV1j+SjpEg0gK3YqPB0htC/wBKLxl8VtEduHHXLycseeEf\n",
      "ZqzxVrp8z28ZkeDlWHLe/RWbjqkrXva2ZEeii8LZ2xWJcXGKkbWksr4hO46KSmrLPValXa89aEl7\n",
      "38MVfUDpQmr30kjFWcse+Fmu5o8fk4vb4+WtI4uzoiI0gNL9YEVuP4CNRX4xHRGku8dFaGGtID1b\n",
      "JU3Xa+E3btOvGufKPoo6uPxUELgUooAAgBBSgQUqVAYFZ+PyBwx3XyNYyLwGik0BoeWZdBD6QJiq\n",
      "iyIhRfTMqeRpAgFgABoDYA2BcgesAoBPICgENEclG7eCzbZlY+Zte373uUsI5b+TkNxuR4Pvjcxr\n",
      "UGRU7QioKIo2vLMyroo+kFaiu8De76RYV8qutyrJaTSkj1+N5PJEfjG7O+PM5PxQxuIk+CIM4oLK\n",
      "r425MDKWOWT0LIOm6uGRE1FF92pV1jclF3issWrg3XWnUUuT5kZsdIS44dWhcO3WM7a3Xic+Xj10\n",
      "4+Sx1TT+mB5uXjsevj5NVROWOsaUCK6RiFbURgkkBxlHvA4+zCY1GHLIEdlh+Aq54gdIruA6IsRX\n",
      "54FFUf0NHSJUbjyZB0WATXl2nalD3YYyySvkdOPDWOXPHghG7bm7t6vG56+PHHh8nPScvlWmRuOR\n",
      "FbvW+4qV0WKxCa1Te68+wqvU8s8JcitY5brg+vG60C43OKmsOpomM15aa3ZOF8nvQXImEj6GzVE0\n",
      "lxwfWcfJxejx8npfpo8VmPZO1XgRcaCVqPPiIN+eYo3FEHQgAVPQqukX3Fl7ZsfUoz34p/XrPRL0\n",
      "4co6lYLAUGAFKQChE0KWqEAAw0A/IJnLt0Xz4lF8jIFkA0i/cgi8cLE3VPVgBYi+YAn0w9IoEAsC\n",
      "4UGB5CTEPIAF0Aj9IbEES1ouBxrbTCkryeOSiniyLI+XtO1zq4ZR0gngTWsebMy2XIJvaeABeYGk\n",
      "graRLRuK7grrFfhhV9IDcb658jUpXy+kfdqQfFNYHfx15vK434I9byduT59QWUu/2Za6S3N55BGr\n",
      "Xw15sdnaqFv2EFeX2sU0SYFXq4GZ0745NPBpAFUa92cbWWEtGEronlbJfUo0pW15jJfrW/p2hVa+\n",
      "L6HHl4t+O/Dy59emnOMsmefl4rHo4+SX8uqaOWY67/rXrEDEvSCub8SCboEUf0BrICxV/MGukEUb\n",
      "fhoVGor8AbQw1XJR5cW2akTXJ7ZCOXvf8Tc8drly8nGfa5VNqqSXuuyl9TtPE48/P+q80o4345na\n",
      "SR5rz38knw0WLNM3/rMVfXXMMvRglld6MLpDmUxXHH8EqWOsXhZ6acGalSK8dfyWtlKW77sl2kSM\n",
      "V4fPH5cetBdjVCpqsnZoze41xuPpUnvK/wBUzw+XjY9vj5dNpHF1VBKXA1EDpF/sg6XAoIIitplR\n",
      "7NiqWe638WKO3Fz5x77nRwEUUgAUoAAKACaA+gXD1cD8ec2lGLqgVAPVhqH3GikwReRoEQCqpIh6\n",
      "yKBMNQuGrYB9gqIiAItyh5kVPJj6JfuGQeLattULwg7yWDekSWtyPnSnKbbk73zuYtbjNjKsvx4A\n",
      "F5ZkFUbdoFsFxqMdeIXG0u/Qg6KIWNpdxVb3eHaBqMfTKzXyel8HT/5NHfh04+RxWX0PVHi5Ttyk\n",
      "u56ZmlhG3niZxVt6Q+J2nUtc2WDSTz4530KWqlbLRE1Naio/XO7KqtW7Hg7EZ+kU8eerBjO6pYNZ\n",
      "6MDG7KPwyul8jDRGonhLBrSWDLFzHSLd+KywKjUXG7s8snqQ3HWFecdbq1t2Rzvj4114+ax3jtV/\n",
      "i4YWyON8P/y7TzytKtCXzLDi7HK+Pl+XeeTjVweTMeta9ottRi6esCYoojBqOBcZ1tWLho5xjjJp\n",
      "aYyLIm/6zLaqcdb2w903PHWL5J+3Ke1yeMYpWwe8dJ4XLl58cZTlU+KTfJYJHacJHn5eW1pWtotM\n",
      "dTcZT2iSta/DkGaze65BmRVG669SripL8EZa1vxyKjcXbmPrTe9qtXiMGud887lidOkWlj3oqzIr\n",
      "3dPEGwSzT4YIDzx/xt09JYw5EV7tmq6PXDE4+Wa7+Lk9nq54L09kVEVbFFQGkRG4/q4G0BSKqYHW\n",
      "nLdaktHdHSXGbNfVpyU0pL5kd5289mNlZUABQpYCkAqBDAqAOwLH49eJx+Nql3mtFJaik0PVzWwU\n",
      "lUEiIWh2EihrYYEtSKRU+5pAaAqH6Cnp4AAABjRG7EI+dtm2ZwpvLCUzLcjwXMVuCd8jLY/2gjNu\n",
      "8DaQVrd7mFN3x0CY2loRptJgjpFP72C62o8i4jaiBcixHxemHdw/2zvY68HLyPPF4dn0PbHi5fWJ\n",
      "PPrLVWPpkFXXrqVG8LeBlCNvosOZTYr5aoYaivw7LFxFb0v1AGv93UkFhb8kQs/SEozKKeavfWwP\n",
      "ZjclDJ892RWvZd/+StfXNA+tp3ylhbrBjTn3CHYpLxuU7Xetk/poYyfpZeX7a9rK3xPDLEenH9NT\n",
      "ny/bSqy4vPUz/wCfFr/15ftfby+1kT/y4n/ry/aSr1P5Z4vATx8f0f8Ary/YqkmsW8dWzXpx/TN8\n",
      "nL9krZvVZ3xRcjHvUclknpjZGsRFLyFRd58cuCERVK6wx5hdEpS5W0FNbUcOp5hGljl1Yg1X6YQt\n",
      "rfhoVG1x45pBrHRTbwXgU1Ur56FR0pz04ZXC7I288sM8CdJ9JWvfXKxYOdWG8rr4oO8WkQSlO9nf\n",
      "PB6WZMb49Pp053XNYO2p4fLxx7vHy10XicHVpBIArSQGkBtEFA0iHxpG4a92xVfkfXE7ca4849qO\n",
      "jkWCNBUIKUAihQIFAlWFyFfj0jna3jSGaF+8vUT6pFwt4E+AalRRoDRAKRUHaHkWB6RQ8u8oEQCn\n",
      "pgAISQ08ijwbbtW7enF4te81ojNrcj5uZz10bSIsN3uCsteNiDcI+II3bu0Cpl5gIK5B1igrpGJR\n",
      "0SA1YIqXcURvjwCPg9KO8o8s+B24uXkcotW8HY9fF5OSa9azN1GrrJeBlNaSVrJY83gwZqJaPQpV\n",
      "jh2vIJsV4fX6g1ltlNVNcMuRMIq8MiqXxuRlcHrbC+CIsHyxLVp2ZZsjKcrZlEdJPFrHS2AXansp\n",
      "LKXNpq5F9iSmsLJ31jgF2M3a+KEuu1y9n9N5c+WDHZ3+1U1xyyJhi76fza8bAL8/qyi7y45Y5gRz\n",
      "5ZcmQ6VN58SnTSg3r2BOnWMOPeNTppJRVrfQiYZcuYMFb8FGou2X0CLn1cGBqPegmNQt33djSx03\n",
      "pY4Za2C2rF6N/gJuryX1CV1T4vqZV3Ui7Y53zbFOms/O5Df080l7OX+2prfBMdr3+XtoVLPPk8Tn\n",
      "5OOx24csr2p38j53Ljle6ctjSsZaVv8ABUEQdE/2VFTIRoDSYGkyjrTm4tSXyu5vgnKPqxkpK6+Z\n",
      "XR3jzWNIqKAuRVLEoEihQgFTIEAo/HrxeRxdVXiJBS4mqVAELjDVQzA8i9CEAoemxeyK/TJioVD7\n",
      "ACAWAS0Lj6BR59prKlFyedrQX8mStR8ScpSd28ZO7Zztbkaj6TMtR0SI2j8dQlVRINxXdwCt7vcU\n",
      "YcWRpqK/YR1ivxYDolwKLEo0BoGOc8uoRPj4W34y7czrwcvI5wtb/wAT28Xj5Mp+BUdYNdtskZSk\n",
      "vSLE7LO2HGwRq37Cpm8exgtNeNuAQaSx/liIsEr5/QpTDqsRNGtE9NdQfVbSw+rYi4iedr9bKlFK\n",
      "3ZgKLi8b9dyC+ktGVTOyed8GsiA8u0Gs7q1tjqwLux/I0RwWvUUWMI/kh8acUtOSsNNIw/8A25AN\n",
      "3vwYRV7umYNaV/TAWt2gVBS188Oa1CVqPdfNlRrHS2Vm+QMW355lTGoW1Ctq9uvOzxA1e2S6xE1d\n",
      "7W2pTWk7vsGDeFucRIsguvQpqVKammnrhkF3XOjN5POOElxGa1LY+lQnvL/ijxeXi9fj5OyPLj0K\n",
      "TBVco1HwIjWH4QGkyhBNN3ebw5ENdUBperllHv2Od04v5XePUejjXHlHrNuQEqoi/FKmnrICkAoB\n",
      "T1cYm4IuJ7Px/kzhHWr19RdFX4H0LFkSqv0yUiooEkAqozOgXQ9MsoDUAAAoeRQMkQQRjsfJ2+tv\n",
      "T3VlTwzzZnlW5Hj82c3R0giUdPMNQt3Aaiu/jqQdFEqryClu5gFEI6xQg6W/JVVIDSII+rqA41Xh\n",
      "2FiV8Tbc/M6cHLm5RWHXqj28Xj5VFbE1WdrrHBKz0MpqY38zUG1l4XIg21nrliDSy49ZcMS6WQw+\n",
      "NRx+mb0IMJd3EaDwxtnwKNK0ld4DsiO//tgXTRNK/XZk+hbPmQPWJQzx4cxputdvbYgmGfHQIj/S\n",
      "ehWh/sp1Cy+uJKjSsr55EG73WeWmoGcXlouJV0h1dbCKvSCLitdQphxy1SIiqz7MyjaV/pqFPLMC\n",
      "7v5QTWou2fUVNVRz8iDSdtdDQ6Qk3z4gl/xX1dbC/wAW1hqRVrydi6ezb5dUkxE1q+GC0GGvPWi4\n",
      "v2q4WkljgRud/l6aFXdxXDBXwZnnx2OvC5+X0INNKSyawwPn8+OPbx5bFOdjUW5FauBpERfLQo2g\n",
      "ioK2jUSu1Ke41LhmuRvhWeU19OLvjxV0dnBpFRR0mUBihKoUCAagPifQD8fb8HKOgKKvVhiqNLFL\n",
      "P9Ts/Q39IeYUJmgMNCzpC/fkA7QoghmVEIoA9XAFHKvU9nGU/wCKv2kWR8GUnJt/yd2c7XSRV5/U\n",
      "y07Qw+mZFUK1FFG4RIOlgq2KCWPUFVLxINr9hGgrSAqAy3+APNVefcIV8nbM+vI7eOOPkrjGWD6j\n",
      "2yPDfol3lHVLDqXEjNFZII2oK3kFS3qwSpFXv5gRxs3wT0LoLr7gHvLTLFFVpyUuCaM4J38wiZvH\n",
      "R5lVd1eQRMY/Yo0lrbsIp6twCNRxz4kEa101IF09O3iX40w011X4F1NWN/oLRq/e+JINRin2F+Eq\n",
      "KNvri0S0o7LHHquEVprqaw4lUtfxvfMIseD14aBGlCwXpd7S3LAC69wCy+jzKlaio553zxBGrcPE\n",
      "C2S5lHSMuHbiGosMb3+nEFL2fK2RWdWLuOiZW1w4lW9LC+ry+oTW7YNNZ8sw1LHli5U5ezfw3vBs\n",
      "ytr6Gy1PkeUlh1nn8vDe3fxc3rseG/p7JdWxFE+4DSYRq4RteAGkUaQGk+40V9DZKm9Hdbxg+47S\n",
      "uHKPUjbFUYmgFLhsEQAYtwaIAWF1+O8jg6rf0inS+RUW5Av+zWItyYAugRS5f4gP4AyIhcAYp56X\n",
      "AeZNAuiCovkFfP6Tq+6ofzlj1Ga1Hy/Vzm6NQ9XZFdYkVuOIV0XpBW15lRpBVRAKNR88wNKwFRIN\n",
      "2FEy7QuucyjzVAlfK2h3l/xwPT448/kYeCPXI8lWnkyWJW4RX1DDW6uIFzyWWoajKbWF8wVLPH7k\n",
      "ZaVvqsuYaTFvLkuAQbt2aosWMYeZUaTku0dLDDLtGCp/hDDCNnjzJRp3WXHO4E3Xnx4IdEWN+GI6\n",
      "Em32ckEV2tqF1mzf3egOmleP6B0i4W+owWLGIrb07OAgiu8+OKsKrd0vLAgitnpfUqNJ8NcsCnUb\n",
      "Twx6gmp9yIWepVa0sgvX6FflgVP41n9yDVu8C9bBre/fBdV2U1Hb6FGov08Cja88b6ESuiS/QIsW\n",
      "32ZFXXKvT31zjjGS4malrNCs5LhKODWRM/DfG4+ps9X2is/iWeOZ4/Lwzt7fHzdn4nmd2WQS4G0/\n",
      "2BtMI3FlRtFWNIFd9mqbkl/ue68Trxrnyj6aO3ThelCapF0BkUKAEVBj6nxUMNf/2Q==\n",
      "\n",
      "--===============0064495521725656629==--\n",
      "\n"
     ]
    }
   ],
   "source": [
    "with open(attachment_path, 'rb') as ap:\n",
    "    message.add_attachment(ap.read(),\n",
    "                           maintype=mime_type,\n",
    "                           subtype=mime_subtype,\n",
    "                           filename=os.path.basename(attachment_path))\n",
    "print(message)"
   ]
  },
  {
   "cell_type": "code",
   "execution_count": 65,
   "metadata": {},
   "outputs": [],
   "source": [
    "import smtplib\n",
    "mail_server = smtplib.SMTP('smtp.gmail.com:587')\n",
    "mail_server.set_debuglevel(1)\n",
    "\n"
   ]
  },
  {
   "cell_type": "code",
   "execution_count": 17,
   "metadata": {},
   "outputs": [],
   "source": [
    "import getpass\n",
    "mail_pass = getpass.getpass('Password?')\n"
   ]
  },
  {
   "cell_type": "code",
   "execution_count": 66,
   "metadata": {},
   "outputs": [
    {
     "name": "stdout",
     "output_type": "stream",
     "text": [
      "neiikrmwxeznokdm\n"
     ]
    }
   ],
   "source": [
    "print(mail_pass)"
   ]
  },
  {
   "cell_type": "code",
   "execution_count": 67,
   "metadata": {},
   "outputs": [
    {
     "name": "stdout",
     "output_type": "stream",
     "text": [
      "rjamur@gmail.com\n"
     ]
    }
   ],
   "source": [
    "print(sender)"
   ]
  },
  {
   "cell_type": "code",
   "execution_count": 69,
   "metadata": {},
   "outputs": [
    {
     "name": "stderr",
     "output_type": "stream",
     "text": [
      "send: 'STARTTLS\\r\\n'\n",
      "reply: b'220 2.0.0 Ready to start TLS\\r\\n'\n",
      "reply: retcode (220); Msg: b'2.0.0 Ready to start TLS'\n",
      "send: 'ehlo rafa.home\\r\\n'\n",
      "reply: b'250-smtp.gmail.com at your service, [85.138.111.104]\\r\\n'\n",
      "reply: b'250-SIZE 35882577\\r\\n'\n",
      "reply: b'250-8BITMIME\\r\\n'\n",
      "reply: b'250-AUTH LOGIN PLAIN XOAUTH2 PLAIN-CLIENTTOKEN OAUTHBEARER XOAUTH\\r\\n'\n",
      "reply: b'250-ENHANCEDSTATUSCODES\\r\\n'\n",
      "reply: b'250-PIPELINING\\r\\n'\n",
      "reply: b'250-CHUNKING\\r\\n'\n",
      "reply: b'250 SMTPUTF8\\r\\n'\n",
      "reply: retcode (250); Msg: b'smtp.gmail.com at your service, [85.138.111.104]\\nSIZE 35882577\\n8BITMIME\\nAUTH LOGIN PLAIN XOAUTH2 PLAIN-CLIENTTOKEN OAUTHBEARER XOAUTH\\nENHANCEDSTATUSCODES\\nPIPELINING\\nCHUNKING\\nSMTPUTF8'\n",
      "send: 'AUTH PLAIN AHJqYW11ckBnbWFpbC5jb20AbmVpaWtybXd4ZXpub2tkbQ==\\r\\n'\n",
      "reply: b'235 2.7.0 Accepted\\r\\n'\n",
      "reply: retcode (235); Msg: b'2.7.0 Accepted'\n"
     ]
    },
    {
     "data": {
      "text/plain": [
       "(235, b'2.7.0 Accepted')"
      ]
     },
     "execution_count": 69,
     "metadata": {},
     "output_type": "execute_result"
    }
   ],
   "source": [
    "mail_server.starttls()"
   ]
  },
  {
   "attachments": {},
   "cell_type": "markdown",
   "metadata": {},
   "source": []
  },
  {
   "cell_type": "code",
   "execution_count": 68,
   "metadata": {},
   "outputs": [
    {
     "name": "stderr",
     "output_type": "stream",
     "text": [
      "send: 'ehlo rafa.home\\r\\n'\n",
      "reply: b'250-smtp.gmail.com at your service, [85.138.111.104]\\r\\n'\n",
      "reply: b'250-SIZE 35882577\\r\\n'\n",
      "reply: b'250-8BITMIME\\r\\n'\n",
      "reply: b'250-STARTTLS\\r\\n'\n",
      "reply: b'250-ENHANCEDSTATUSCODES\\r\\n'\n",
      "reply: b'250-PIPELINING\\r\\n'\n",
      "reply: b'250-CHUNKING\\r\\n'\n",
      "reply: b'250 SMTPUTF8\\r\\n'\n",
      "reply: retcode (250); Msg: b'smtp.gmail.com at your service, [85.138.111.104]\\nSIZE 35882577\\n8BITMIME\\nSTARTTLS\\nENHANCEDSTATUSCODES\\nPIPELINING\\nCHUNKING\\nSMTPUTF8'\n"
     ]
    },
    {
     "ename": "SMTPNotSupportedError",
     "evalue": "SMTP AUTH extension not supported by server.",
     "output_type": "error",
     "traceback": [
      "\u001b[0;31m---------------------------------------------------------------------------\u001b[0m",
      "\u001b[0;31mSMTPNotSupportedError\u001b[0m                     Traceback (most recent call last)",
      "\u001b[0;32m/tmp/ipykernel_297404/2366165500.py\u001b[0m in \u001b[0;36m<module>\u001b[0;34m\u001b[0m\n\u001b[0;32m----> 1\u001b[0;31m \u001b[0mmail_server\u001b[0m\u001b[0;34m.\u001b[0m\u001b[0mlogin\u001b[0m\u001b[0;34m(\u001b[0m\u001b[0msender\u001b[0m\u001b[0;34m,\u001b[0m \u001b[0mmail_pass\u001b[0m\u001b[0;34m)\u001b[0m\u001b[0;34m\u001b[0m\u001b[0;34m\u001b[0m\u001b[0m\n\u001b[0m",
      "\u001b[0;32m/usr/lib/python3.10/smtplib.py\u001b[0m in \u001b[0;36mlogin\u001b[0;34m(self, user, password, initial_response_ok)\u001b[0m\n\u001b[1;32m    714\u001b[0m         \u001b[0mself\u001b[0m\u001b[0;34m.\u001b[0m\u001b[0mehlo_or_helo_if_needed\u001b[0m\u001b[0;34m(\u001b[0m\u001b[0;34m)\u001b[0m\u001b[0;34m\u001b[0m\u001b[0;34m\u001b[0m\u001b[0m\n\u001b[1;32m    715\u001b[0m         \u001b[0;32mif\u001b[0m \u001b[0;32mnot\u001b[0m \u001b[0mself\u001b[0m\u001b[0;34m.\u001b[0m\u001b[0mhas_extn\u001b[0m\u001b[0;34m(\u001b[0m\u001b[0;34m\"auth\"\u001b[0m\u001b[0;34m)\u001b[0m\u001b[0;34m:\u001b[0m\u001b[0;34m\u001b[0m\u001b[0;34m\u001b[0m\u001b[0m\n\u001b[0;32m--> 716\u001b[0;31m             raise SMTPNotSupportedError(\n\u001b[0m\u001b[1;32m    717\u001b[0m                 \"SMTP AUTH extension not supported by server.\")\n\u001b[1;32m    718\u001b[0m \u001b[0;34m\u001b[0m\u001b[0m\n",
      "\u001b[0;31mSMTPNotSupportedError\u001b[0m: SMTP AUTH extension not supported by server."
     ]
    }
   ],
   "source": [
    "mail_server.login(sender, mail_pass)"
   ]
  },
  {
   "cell_type": "code",
   "execution_count": 70,
   "metadata": {},
   "outputs": [
    {
     "name": "stderr",
     "output_type": "stream",
     "text": [
      "send: 'mail FROM:<rjamur@gmail.com> size=34441\\r\\n'\n",
      "reply: b'250 2.1.0 OK q25-20020a7bce99000000b003f4268f51f5sm9218207wmj.0 - gsmtp\\r\\n'\n",
      "reply: retcode (250); Msg: b'2.1.0 OK q25-20020a7bce99000000b003f4268f51f5sm9218207wmj.0 - gsmtp'\n",
      "send: 'rcpt TO:<jamur@ufpr.br>\\r\\n'\n",
      "reply: b'250 2.1.5 OK q25-20020a7bce99000000b003f4268f51f5sm9218207wmj.0 - gsmtp\\r\\n'\n",
      "reply: retcode (250); Msg: b'2.1.5 OK q25-20020a7bce99000000b003f4268f51f5sm9218207wmj.0 - gsmtp'\n",
      "send: 'data\\r\\n'\n",
      "reply: b'354  Go ahead q25-20020a7bce99000000b003f4268f51f5sm9218207wmj.0 - gsmtp\\r\\n'\n",
      "reply: retcode (354); Msg: b'Go ahead q25-20020a7bce99000000b003f4268f51f5sm9218207wmj.0 - gsmtp'\n",
      "data: (354, b'Go ahead q25-20020a7bce99000000b003f4268f51f5sm9218207wmj.0 - gsmtp')\n",
      "send: b'From: rjamur@gmail.com\\r\\nTo: jamur@ufpr.br\\r\\nSubject: Geetings from rjamur@gmail.com to jamur@ufpr.br\\r\\nMIME-Version: 1.0\\r\\nContent-Type: multipart/mixed; boundary=\"===============0064495521725656629==\"\\r\\n\\r\\n--===============0064495521725656629==\\r\\nContent-Type: text/plain; charset=\"utf-8\"\\r\\nContent-Transfer-Encoding: 7bit\\r\\n\\r\\nHey there!\\r\\n\\r\\nI\\'m learning to send emails using Python!\\r\\n\\r\\n--===============0064495521725656629==\\r\\nContent-Type: image/jpeg\\r\\nContent-Transfer-Encoding: base64\\r\\nContent-Disposition: attachment; filename=\"me.jpg\"\\r\\nMIME-Version: 1.0\\r\\n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\\r\\n\\r\\n--===============0064495521725656629==--\\r\\n.\\r\\n'\n",
      "reply: b'250 2.0.0 OK  1685216270 q25-20020a7bce99000000b003f4268f51f5sm9218207wmj.0 - gsmtp\\r\\n'\n",
      "reply: retcode (250); Msg: b'2.0.0 OK  1685216270 q25-20020a7bce99000000b003f4268f51f5sm9218207wmj.0 - gsmtp'\n",
      "data: (250, b'2.0.0 OK  1685216270 q25-20020a7bce99000000b003f4268f51f5sm9218207wmj.0 - gsmtp')\n"
     ]
    },
    {
     "data": {
      "text/plain": [
       "{}"
      ]
     },
     "execution_count": 70,
     "metadata": {},
     "output_type": "execute_result"
    }
   ],
   "source": [
    "mail_server.send_message(message)"
   ]
  },
  {
   "cell_type": "code",
   "execution_count": 71,
   "metadata": {},
   "outputs": [
    {
     "name": "stderr",
     "output_type": "stream",
     "text": [
      "send: 'quit\\r\\n'\n",
      "reply: b'221 2.0.0 closing connection q25-20020a7bce99000000b003f4268f51f5sm9218207wmj.0 - gsmtp\\r\\n'\n",
      "reply: retcode (221); Msg: b'2.0.0 closing connection q25-20020a7bce99000000b003f4268f51f5sm9218207wmj.0 - gsmtp'\n"
     ]
    },
    {
     "data": {
      "text/plain": [
       "(221,\n",
       " b'2.0.0 closing connection q25-20020a7bce99000000b003f4268f51f5sm9218207wmj.0 - gsmtp')"
      ]
     },
     "execution_count": 71,
     "metadata": {},
     "output_type": "execute_result"
    }
   ],
   "source": [
    "mail_server.quit()"
   ]
  }
 ],
 "metadata": {
  "kernelspec": {
   "display_name": "Python 3",
   "language": "python",
   "name": "python3"
  },
  "language_info": {
   "codemirror_mode": {
    "name": "ipython",
    "version": 3
   },
   "file_extension": ".py",
   "mimetype": "text/x-python",
   "name": "python",
   "nbconvert_exporter": "python",
   "pygments_lexer": "ipython3",
   "version": "3.10.6"
  },
  "orig_nbformat": 4
 },
 "nbformat": 4,
 "nbformat_minor": 2
}
